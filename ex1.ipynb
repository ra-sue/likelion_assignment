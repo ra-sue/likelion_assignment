{
 "cells": [
  {
   "cell_type": "code",
   "execution_count": 38,
   "metadata": {},
   "outputs": [
    {
     "output_type": "stream",
     "name": "stdout",
     "text": "나이 : 21살\n생일 : 1월 1일\n남자\n"
    }
   ],
   "source": [
    "\n",
    "a = int(input('주민번호 앞자리'))\n",
    "b = int(input('주민번호 뒷자리'))\n",
    "aa = a % 10000  # 402\n",
    "aaa = a // 10000  # 96\n",
    "\n",
    "\n",
    "birth_month = aa//100  # 4 -> 월을 구했다.\n",
    "birth_day = aa % 100  # 2 -> 일을 구했다.\n",
    "\n",
    "\n",
    "#print(f'생일 : {str(a)[2:4]}월 {str(a)[4:6]}일')\n",
    "\n",
    "\n",
    "# if b // 1000000 % 2 ==1:\n",
    "\n",
    "first_num = b // 1000000  # 1,2,3,4 중 하나가 나온다\n",
    "\n",
    "if first_num < 3:\n",
    "    birth_age = 120-aaa+1  # 96 -> 나이 구하기\n",
    "\n",
    "elif first_num > 2:\n",
    "    birth_age = 20-aaa+1\n",
    "\n",
    "print(f'나이 : {birth_age}살')\n",
    "print(f'생일 : {birth_month}월 {birth_day}일')\n",
    "\n",
    "if first_num in [1, 3]:  # 남자\n",
    "    print('남자')\n",
    "elif first_num in [2, 4] == 0:  # 여자\n",
    "    print('여자')\n",
    "\n",
    "\n",
    "# if int(str(b)[0]) % 2 == 1:  # 남자\n",
    "#    print('성별 : 남성')\n",
    "# else:  # 여자\n",
    "#    print('성별 : 여성')\n",
    "# print()\n"
   ]
  },
  {
   "cell_type": "code",
   "execution_count": 37,
   "metadata": {},
   "outputs": [
    {
     "output_type": "stream",
     "name": "stdout",
     "text": "5 * 1 = 5\n5 * 2 = 10\n5 * 3 = 15\n5 * 4 = 20\n5 * 5 = 25\n5 * 6 = 30\n5 * 7 = 35\n5 * 8 = 40\n5 * 9 = 45\n"
    }
   ],
   "source": [
    "dan = int(input(\"단을 입력해주세요.\"))\n",
    "for _ in range(1, 9+1):\n",
    "    print(f'{dan} * {_} = {dan*_}')\n"
   ]
  },
  {
   "cell_type": "code",
   "execution_count": 36,
   "metadata": {},
   "outputs": [
    {
     "output_type": "stream",
     "name": "stdout",
     "text": "2\n3\n5\n7\n11\n13\n17\n19\n23\n29\n31\n37\n41\n43\n47\n53\n59\n61\n67\n71\n73\n79\n83\n89\n97\n2, 3, 5, 7, 11, 13, 17, 19, 23, 29, 31, 37, 41, 43, 47, 53, 59, 61, 67, 71, 73, 79, 83, 89, 97,"
    }
   ],
   "source": [
    "break_check = False\n",
    "\n",
    "for first in range(2, 101):\n",
    "    for second in range(2, first+1):\n",
    "        if (first != second) and (first % second == 0):\n",
    "            break_check = True\n",
    "            break\n",
    "    if break_check == True:\n",
    "        break_check = False\n",
    "        continue\n",
    "    else:\n",
    "        print(first)\n",
    "\n",
    "\n",
    "\n",
    "for i in range(2, 101):\n",
    "    check = True\n",
    "    for j in range(2, i):\n",
    "        if i % j == 0:\n",
    "            check = False\n",
    "            break\n",
    "    if check:\n",
    "        print(i, end=\", \")\n",
    "        # print(i)\n"
   ]
  },
  {
   "cell_type": "code",
   "execution_count": 35,
   "metadata": {},
   "outputs": [
    {
     "output_type": "stream",
     "name": "stdout",
     "text": "1번째 학생 합격!\n2번째 학생 불합격!\n3번째 학생 불합격!\n4번째 학생 합격!\n5번째 학생 불합격!\n\n"
    }
   ],
   "source": [
    "grade_list = [60, 40, 30, 50, 25]\n",
    "\n",
    "a = sum(grade_list) / len(grade_list)\n",
    "for i in range(len(grade_list)):\n",
    "    if grade_list[i] > a:\n",
    "        print(f'{i+1}번째 학생 합격!')\n",
    "    else:\n",
    "        print(f'{i+1}번째 학생 불합격!')\n",
    "\n",
    "print()\n"
   ]
  },
  {
   "cell_type": "code",
   "execution_count": 34,
   "metadata": {},
   "outputs": [
    {
     "output_type": "stream",
     "name": "stdout",
     "text": "<class 'tuple'>\na=>(1, 2, 3, 5)\n"
    }
   ],
   "source": [
    "b = (1, 2, 3)\n",
    "b = list(b)\n",
    "b.append(5)\n",
    "b = tuple(b)\n",
    "print(type(b))\n",
    "print(f'a=>{b}')\n"
   ]
  },
  {
   "cell_type": "code",
   "execution_count": 33,
   "metadata": {},
   "outputs": [
    {
     "output_type": "stream",
     "name": "stdout",
     "text": "응 없어~\n"
    }
   ],
   "source": [
    "my_dict = {\"이종훈\": \"010-6355-xxxx\"}\n",
    "\n",
    "i = input(\"찾고자 하는 사람을 입력하시오.\")\n",
    "\n",
    "if i in my_dict.keys():\n",
    "    print(my_dict[i])\n",
    "else:\n",
    "    print('응 없어~')\n"
   ]
  },
  {
   "cell_type": "code",
   "execution_count": null,
   "metadata": {},
   "outputs": [],
   "source": []
  }
 ],
 "metadata": {
  "language_info": {
   "codemirror_mode": {
    "name": "ipython",
    "version": 3
   },
   "file_extension": ".py",
   "mimetype": "text/x-python",
   "name": "python",
   "nbconvert_exporter": "python",
   "pygments_lexer": "ipython3",
   "version": "3.7.6-final"
  },
  "orig_nbformat": 2,
  "kernelspec": {
   "name": "python3",
   "display_name": "Python 3"
  }
 },
 "nbformat": 4,
 "nbformat_minor": 2
}